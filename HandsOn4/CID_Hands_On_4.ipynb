{
  "nbformat": 4,
  "nbformat_minor": 0,
  "metadata": {
    "colab": {
      "provenance": []
    },
    "kernelspec": {
      "name": "python3",
      "display_name": "Python 3"
    },
    "language_info": {
      "name": "python"
    }
  },
  "cells": [
    {
      "cell_type": "code",
      "execution_count": 3,
      "metadata": {
        "id": "lbu9ZMmifrlf"
      },
      "outputs": [],
      "source": [
        "# imports\n",
        "import numpy as np\n",
        "\n",
        "from Data import Data\n",
        "from Operations import Operations\n",
        "from KNN import KNN"
      ]
    },
    {
      "cell_type": "code",
      "source": [
        "# Datos de entrenamiento: [peso, textura] (0: suave, 1: rugosa)\n",
        "X_train = np.array([[150, 1], [170, 1], [140, 0], [130, 0]])\n",
        "# Etiquetas de entrenamiento: 0 para 'manzana', 1 para 'naranja'\n",
        "y_train = np.array([0, 0, 1, 1])\n",
        "\n",
        "# Punto a clasificar: [peso, textura]\n",
        "X_test = np.array([[110, 1]])\n",
        "\n",
        "# Crear y entrenar el clasificador\n",
        "knn = KNN(k=3)\n",
        "knn.fit(X_train, y_train)\n",
        "\n",
        "# Realizar la predicción\n",
        "prediction = knn.predict(X_test)\n",
        "\n",
        "print(f\"La predicción es: {prediction[0]}.\")\n",
        "\n"
      ],
      "metadata": {
        "id": "FdSIp46KjcSy",
        "colab": {
          "base_uri": "https://localhost:8080/"
        },
        "outputId": "ad6bf44f-04ef-42f9-bbcd-5938d633a85d"
      },
      "execution_count": 13,
      "outputs": [
        {
          "output_type": "stream",
          "name": "stdout",
          "text": [
            "La predicción es: 1.\n"
          ]
        }
      ]
    },
    {
      "cell_type": "code",
      "source": [
        "!ls"
      ],
      "metadata": {
        "colab": {
          "base_uri": "https://localhost:8080/"
        },
        "id": "wQnInz5qhi6_",
        "outputId": "d2d1c89d-7081-4870-f197-bcc1222f0f51"
      },
      "execution_count": null,
      "outputs": [
        {
          "output_type": "stream",
          "name": "stdout",
          "text": [
            "Data.py  Operations.py\t__pycache__  sample_data\n"
          ]
        }
      ]
    }
  ]
}