{
  "nbformat": 4,
  "nbformat_minor": 0,
  "metadata": {
    "colab": {
      "provenance": [],
      "authorship_tag": "ABX9TyMlvzXmuAYzdGH9U360yjrE",
      "include_colab_link": true
    },
    "kernelspec": {
      "name": "python3",
      "display_name": "Python 3"
    },
    "language_info": {
      "name": "python"
    }
  },
  "cells": [
    {
      "cell_type": "markdown",
      "metadata": {
        "id": "view-in-github",
        "colab_type": "text"
      },
      "source": [
        "<a href=\"https://colab.research.google.com/github/LIUrielMora/ClasificacionInteligenteDatos/blob/main/HandsOn3/main.ipynb\" target=\"_parent\"><img src=\"https://colab.research.google.com/assets/colab-badge.svg\" alt=\"Open In Colab\"/></a>"
      ]
    },
    {
      "cell_type": "code",
      "execution_count": 6,
      "metadata": {
        "id": "lbu9ZMmifrlf"
      },
      "outputs": [],
      "source": [
        "# imports\n",
        "from Data import Data\n",
        "from Operations import Operations\n",
        "from LinearRegression import LinearRegression\n",
        "from QuadraticRegression import QuadraticRegression\n",
        "from CubicRegression import CubicRegression\n"
      ]
    },
    {
      "cell_type": "code",
      "source": [
        "# setting data\n",
        "x = [108, 115, 106, 97, 95, 91, 97, 83, 83, 78, 54, 67, 56, 53, 61, 115, 81, 78, 30, 45, 99, 32, 25, 28, 90, 89]\n",
        "y = [95, 96, 95, 97, 93, 94, 95, 93, 92, 86, 73, 80, 65, 69, 77, 96, 87, 89, 60, 63, 95, 61, 55, 56, 94, 93]\n",
        "\n",
        "data = Data(x, y)\n"
      ],
      "metadata": {
        "id": "FdSIp46KjcSy"
      },
      "execution_count": 7,
      "outputs": []
    },
    {
      "cell_type": "code",
      "source": [
        "# Make Operations\n",
        "linear = LinearRegression(data.get_x(), data.get_y())\n",
        "quadratic = QuadraticRegression(x, y)\n",
        "cubic = CubicRegression(x, y)"
      ],
      "metadata": {
        "id": "Sblg8sDNjuv1"
      },
      "execution_count": 8,
      "outputs": []
    },
    {
      "cell_type": "code",
      "source": [
        "# Print equations and make predictions\n",
        "print(\"---- Linear Regression ---\")\n",
        "linear.print_equation()\n",
        "print(\"> Known Data: \")\n",
        "print(\"Prediction for x = 83:\", linear.predict(83))\n",
        "print(\"Prediction for x = 78:\", linear.predict(78))\n",
        "print(\"Prediction for x = 67:\", linear.predict(67))\n",
        "print(\"> Predict Data: \")\n",
        "print(\"Prediction for x = 120:\", linear.predict(120))\n",
        "print(\"Prediction for x = 50:\", linear.predict(50))\n",
        "print(\"Prediction for x = 24:\", linear.predict(24))\n",
        "\n",
        "print(\"---- Quadratic Regression: ---\")\n",
        "quadratic.print_equation()\n",
        "print(\"> Known Data: \")\n",
        "print(\"Prediction for x = 83:\", quadratic.predict(83))\n",
        "print(\"Prediction for x = 78:\", quadratic.predict(78))\n",
        "print(\"Prediction for x = 67:\", quadratic.predict(67))\n",
        "print(\"> Predict Data: \")\n",
        "print(\"Prediction for x = 120:\", quadratic.predict(120))\n",
        "print(\"Prediction for x = 50:\", quadratic.predict(50))\n",
        "print(\"Prediction for x = 24:\", quadratic.predict(24))\n",
        "\n",
        "print(\"---- Cubic Regression: ---\")\n",
        "cubic.print_equation()\n",
        "print(\"> Known Data: \")\n",
        "print(\"Prediction for x = 83:\", cubic.predict(83))\n",
        "print(\"Prediction for x = 78:\", cubic.predict(78))\n",
        "print(\"Prediction for x = 67:\", cubic.predict(67))\n",
        "print(\"> Predict Data: \")\n",
        "print(\"Prediction for x = 120:\", cubic.predict(120))\n",
        "print(\"Prediction for x = 50:\", cubic.predict(50))\n",
        "print(\"Prediction for x = 24:\", cubic.predict(24))\n"
      ],
      "metadata": {
        "colab": {
          "base_uri": "https://localhost:8080/"
        },
        "id": "6BrNWE5-j-cM",
        "outputId": "ccaf600f-c10d-4855-986a-78095bc0a5fd"
      },
      "execution_count": 9,
      "outputs": [
        {
          "output_type": "stream",
          "name": "stdout",
          "text": [
            "---- Linear Regression ---\n",
            "Y =  44.12 + 0.51 X\n",
            "> Known Data: \n",
            "Prediction for x = 83: 86.45\n",
            "Prediction for x = 78: 83.9\n",
            "Prediction for x = 67: 78.29\n",
            "> Predict Data: \n",
            "Prediction for x = 120: 105.32\n",
            "Prediction for x = 50: 69.62\n",
            "Prediction for x = 24: 56.36\n",
            "---- Quadratic Regression: ---\n",
            "Y =  -0.003331 X squared +  0.974649 x +  30.624989\n",
            "> Known Data: \n",
            "Prediction for x = 83: 88.5736\n",
            "Prediction for x = 78: 86.3818\n",
            "Prediction for x = 67: 80.9736\n",
            "> Predict Data: \n",
            "Prediction for x = 120: 99.6165\n",
            "Prediction for x = 50: 71.0299\n",
            "Prediction for x = 24: 52.0979\n",
            "---- Cubic Regression: ---\n",
            "Y =  -0.000136 x cubed +  0.02565 x squared +  -0.892299 x +  65.074047\n",
            "> Known Data: \n",
            "Prediction for x = 83: 89.953\n",
            "Prediction for x = 78: 86.9903\n",
            "Prediction for x = 67: 79.5291\n",
            "> Predict Data: \n",
            "Prediction for x = 120: 92.3502\n",
            "Prediction for x = 50: 67.5841\n",
            "Prediction for x = 24: 56.5532\n"
          ]
        }
      ]
    }
  ]
}